{
  "nbformat": 4,
  "nbformat_minor": 0,
  "metadata": {
    "colab": {
      "provenance": []
    },
    "kernelspec": {
      "name": "python3",
      "display_name": "Python 3"
    },
    "language_info": {
      "name": "python"
    }
  },
  "cells": [
    {
      "cell_type": "markdown",
      "source": [
        "# 📘 Object-Oriented Programming (OOP) in Python\n",
        "\n",
        "**Author:** `Abdul Samad Afridi`  \n",
        "---\n",
        "This document demonstrates the **four pillars of OOP** in Python with practical code examples.  \n",
        "Think of it as a mini-book: each section introduces an OOP concept with explanations and working demonstrations.\n",
        "\n",
        "## Four Pillars of OOP\n",
        "\n",
        "1. **Encapsulation**  \n",
        "2. **Inheritance**  \n",
        "3. **Polymorphism**  \n",
        "4. **Abstraction**  \n",
        "\n",
        "## Additional Topics Covered\n",
        "\n",
        "- **Decorators** (built-in and custom)  \n",
        "- **Attributes** (instance, class, and static)  \n",
        "- **Public and Private members**  \n",
        "- The `super()` **method** in inheritance  \n",
        "\n",
        "---\n",
        "\n",
        "## Usage\n",
        "\n",
        "- Run the Python file directly to see examples.  \n",
        "- Study each class and function individually for deeper understanding.  \n",
        "\n",
        "---\n",
        "\n",
        "## Goal\n",
        "\n",
        "This file is designed as a **reusable study & review resource** for revising OOP in Python.  \n",
        "It can also be showcased on **GitHub, LinkedIn, or portfolio projects** as proof of your understanding of OOP fundamentals.  \n"
      ],
      "metadata": {
        "id": "oGBHi6xrtxK4"
      }
    },
    {
      "cell_type": "markdown",
      "source": [
        "# Class and Object"
      ],
      "metadata": {
        "id": "LK8EAt2purNS"
      }
    },
    {
      "cell_type": "markdown",
      "source": [
        "**Class** (Blueprint / Design)\n",
        "\\\n",
        "A class is a blueprint or template for creating objects.\n",
        "\\\n",
        "It defines attributes (variables/data) and methods (functions/behavior).\n",
        "\\\n",
        "But by itself, a class doesn’t hold any real data — it’s just the plan.\n",
        "\\\n",
        "Think of a class like an architect’s house plan 🏠. It describes what the house will look like, but no one can live in the plan itself.\n",
        "\\\n",
        "\\\n",
        "**Object** (Instance / Real thing)\n",
        "\\\n",
        "An object is an actual instance of a class.\n",
        "\\\n",
        "It’s created using the class, and it holds real data.\n",
        "\\\n",
        "Each object has its own copy of attributes but shares the class’s design.\n",
        "\\\n",
        "Think of an object like the actual house built from the architect’s plan. People can live in it."
      ],
      "metadata": {
        "id": "Jug9Bla6w5pD"
      }
    },
    {
      "cell_type": "code",
      "source": [
        "# Define a class\n",
        "class Student:\n",
        "    def __init__(self, name, age):\n",
        "        self.name = name   # attribute\n",
        "        self.age = age\n",
        "\n",
        "    def introduce(self):   # method\n",
        "        return f\"My name is {self.name} and I am {self.age} years old.\"\n",
        "\n",
        "# Create objects (instances of class)\n",
        "s1 = Student(\"Samad\", 21)\n",
        "s2 = Student(\"Ali\", 20)\n",
        "\n",
        "# Use objects\n",
        "print(s1.introduce())\n",
        "print(s2.introduce())\n"
      ],
      "metadata": {
        "id": "kZV3Ho1owzi6"
      },
      "execution_count": null,
      "outputs": []
    },
    {
      "cell_type": "code",
      "execution_count": 17,
      "metadata": {
        "colab": {
          "base_uri": "https://localhost:8080/"
        },
        "id": "7Sf3P6vXKsmk",
        "outputId": "7bb04154-cd2c-40b5-940f-4746300d6080"
      },
      "outputs": [
        {
          "output_type": "stream",
          "name": "stdout",
          "text": [
            "{'brand': 'hp', 'core': 'i7', 'gen': '8', 'ram': '16GB', 'storage': 'SSD 512 GB', 'price': 90000}\n"
          ]
        }
      ],
      "source": [
        "#class define\n",
        "class Laptop:\n",
        "    def __init__(self, brand,core, gen, ram, storage, price ): #construct\n",
        "      self.brand = brand\n",
        "      self.core = core\n",
        "      self.gen = gen\n",
        "      self.ram = ram\n",
        "      self.storage = storage\n",
        "      self.price = price\n",
        "#object that we create\n",
        "hp1 = Laptop(brand=\"hp\", core=\"i7\", gen = \"8\", ram = '16GB', storage = 'SSD 512 GB', price = 90000 )\n",
        "print(hp1.__dict__)\n",
        "# print('Brand:',hp1.brand)\n",
        "# print('core:',hp1.core)\n",
        "# print('Gen:', hp1.gen)\n",
        "# print('RAM:', hp1.ram)\n",
        "# print('Storage:',hp1.storage)\n",
        "# print('Price PKR:', hp1.price)"
      ]
    },
    {
      "cell_type": "markdown",
      "source": [
        "# **Decorator**\n",
        "  1. General Decorators\n",
        "  2. Built-in Decorators in class\n",
        "  3. Other Common Built-in Decorators (outside OOP)\n"
      ],
      "metadata": {
        "id": "p4VNpGQZjzkR"
      }
    },
    {
      "cell_type": "markdown",
      "source": [
        "## 1.General Decorators\n",
        "A decorator is just a function that takes another function (or method) as input(parameter), adds extra functionality to it, and returns a new function — without changing the original function’s code.\n",
        "\n",
        "In short \"A decorator wraps another function to extend its behavior.\""
      ],
      "metadata": {
        "id": "EgyPk_Xe3m72"
      }
    },
    {
      "cell_type": "code",
      "source": [
        "def my_decorator(func):\n",
        "    def wrapper():\n",
        "        print(\"✨ Wellcome to code🧑‍💻...\")\n",
        "        func()   # run the original function\n",
        "        print(\" Goodbye and Have a fun😊...\")\n",
        "    return wrapper\n",
        "\n",
        "@my_decorator\n",
        "def say_hello():\n",
        "    print(\"Hello, Samad!\")\n",
        "\n",
        "say_hello()"
      ],
      "metadata": {
        "colab": {
          "base_uri": "https://localhost:8080/"
        },
        "id": "RSzIrgUmvdG5",
        "outputId": "97088439-83d6-4bb8-f0dd-2a91fae08803"
      },
      "execution_count": 2,
      "outputs": [
        {
          "output_type": "stream",
          "name": "stdout",
          "text": [
            "✨ Wellcome to code🧑‍💻...\n",
            "Hello, Samad!\n",
            " Goodbye and Have a fun😊...\n"
          ]
        }
      ]
    },
    {
      "cell_type": "code",
      "source": [
        "class Student:\n",
        "  def __init__(self, name, marks):\n",
        "    self.name = name\n",
        "    self.marks = marks\n",
        "\n",
        "  @staticmethod  # to  convert a function into a static method, only works  in class level, no need self parameter\n",
        "  def greeting():\n",
        "    print('Hello')\n",
        "\n",
        "  def get_avg(self):\n",
        "    sum = 0\n",
        "    for val in self.marks:\n",
        "      sum += val\n",
        "    print('Hi', self.name, 'Your Avg Marks is: ', sum/len(self.marks))\n",
        "\n",
        "Student.greeting()\n",
        "s1 = Student('Samad', [45,46,47])\n",
        "s1_vag = s1.get_avg()\n",
        "print(s1_vag)"
      ],
      "metadata": {
        "id": "jBGcKfJrMZCt",
        "colab": {
          "base_uri": "https://localhost:8080/"
        },
        "outputId": "48be7a39-6770-4523-c31a-a88e508f4b52"
      },
      "execution_count": null,
      "outputs": [
        {
          "output_type": "stream",
          "name": "stdout",
          "text": [
            "Hello\n",
            "Hi Samad Your Avg Marks is:  46.0\n",
            "None\n"
          ]
        }
      ]
    },
    {
      "cell_type": "markdown",
      "source": [
        "## 2.Built-in Decorators in class"
      ],
      "metadata": {
        "id": "8x46K9EW5kkt"
      }
    },
    {
      "cell_type": "markdown",
      "source": [
        "### 1.`@staticmethod`\n",
        "\n",
        "* A method that **belongs to the class**, but doesn’t use `self` (object) or `cls` (class).\n",
        "* It’s like a **regular function**, but grouped inside the class for organization.\n",
        "\n",
        "```python\n",
        "class MathUtils:\n",
        "    @staticmethod\n",
        "    def add(a, b):\n",
        "        return a + b\n",
        "\n",
        "print(MathUtils.add(5, 3))   # ✅ 8\n",
        "```\n",
        "\n",
        "👉 Use when: method doesn’t need object or class data.\n"
      ],
      "metadata": {
        "id": "sipMQbWc5iw_"
      }
    },
    {
      "cell_type": "markdown",
      "source": [
        "### 2.`@classmethod`\n",
        "\n",
        "* A method that **takes the class itself (`cls`)** as the first parameter.\n",
        "* Used when you want to create **factory methods** (alternate constructors).\n",
        "\n",
        "```python\n",
        "class Person:\n",
        "    def __init__(self, name, age):\n",
        "        self.name = name\n",
        "        self.age = age\n",
        "    \n",
        "    @classmethod\n",
        "    def from_birth_year(cls, name, year):\n",
        "        age = 2025 - year\n",
        "        return cls(name, age)\n",
        "\n",
        "p1 = Person.from_birth_year(\"Samad\", 2000)\n",
        "print(p1.name, p1.age)   # ✅ Samad 25\n",
        "```\n",
        "\n",
        "👉 Use when: you want to work with the class as a whole, not just one object.\n"
      ],
      "metadata": {
        "id": "8SKYgq6c5t8r"
      }
    },
    {
      "cell_type": "markdown",
      "source": [
        "### 3.Instance Method (default)\n",
        "\n",
        "* The **normal method** you always write with `self`.\n",
        "* It operates on **one particular object’s data**.\n",
        "\n",
        "```python\n",
        "class Student:\n",
        "    def __init__(self, name, marks):\n",
        "        self.name = name\n",
        "        self.marks = marks\n",
        "    \n",
        "    def get_avg(self):   # Instance method\n",
        "        return sum(self.marks) / len(self.marks)\n",
        "\n",
        "s1 = Student(\"Ali\", [80, 90, 70])\n",
        "print(s1.get_avg())   # ✅ 80.0\n",
        "```\n",
        "\n",
        "👉 Use when: you need to access or modify an object’s attributes.\n"
      ],
      "metadata": {
        "id": "v43YO8di52GL"
      }
    },
    {
      "cell_type": "markdown",
      "source": [
        "### 4.`@property`\n",
        "\n",
        "* Turns a method into a **read-only attribute**.\n",
        "* You call it **without parentheses**.\n",
        "\n",
        "```python\n",
        "class Circle:\n",
        "    def __init__(self, radius):\n",
        "        self.radius = radius\n",
        "    \n",
        "    @property\n",
        "    def area(self):\n",
        "        return 3.14 * self.radius**2\n",
        "\n",
        "c = Circle(5)\n",
        "print(c.area)   # ✅ 78.5 (notice no parentheses!)\n",
        "```\n",
        "\n",
        "👉 Use when: a method logically looks like a property/attribute.\n"
      ],
      "metadata": {
        "id": "JQhP1--056Ah"
      }
    },
    {
      "cell_type": "markdown",
      "source": [
        "### 5.Getter, Setter, Deleter (with `@property`)\n",
        "\n",
        "* Together they give **controlled access** to private variables.\n",
        "\n",
        "The del keyword is used to delete objects in Python.\n",
        "\n",
        "You can delete a variable, list item, dictionary key, or even object attributes.\n",
        "```python\n",
        "class BankAccount:\n",
        "    def __init__(self, balance):\n",
        "        self.__balance = balance\n",
        "\n",
        "    @property\n",
        "    def balance(self):       # getter\n",
        "        return self.__balance\n",
        "    \n",
        "    @balance.setter\n",
        "    def balance(self, amount):   # setter\n",
        "        if amount >= 0:\n",
        "            self.__balance = amount\n",
        "        else:\n",
        "            print(\"❌ Balance cannot be negative\")\n",
        "\n",
        "    @balance.deleter\n",
        "    def balance(self):       # deleter\n",
        "        print(\"Deleting balance...\")\n",
        "        del self.__balance\n",
        "\n",
        "acc = BankAccount(1000)\n",
        "print(acc.balance)   # ✅ 1000 (getter)\n",
        "acc.balance = 2000   # ✅ updates balance\n",
        "print(acc.balance)   # ✅ 2000\n",
        "del acc.balance      # ✅ deletes balance\n",
        "```"
      ],
      "metadata": {
        "id": "Ebs-5oOr5_z4"
      }
    },
    {
      "cell_type": "markdown",
      "source": [
        " Practice Task"
      ],
      "metadata": {
        "id": "iZII7gjN8GVA"
      }
    },
    {
      "cell_type": "code",
      "source": [
        "from datetime import datetime\n",
        "time_start = datetime.now()\n",
        "\n",
        "class User:\n",
        "    def __init__(self, name, email, password):\n",
        "        self.name = name\n",
        "        self._email = email #private\n",
        "        self.__password = password #protected\n",
        "\n",
        "    # to get private and proteced\n",
        "    def get_email(self):\n",
        "        print(f'Email accessed at {datetime.now()}')\n",
        "        return self._email\n",
        "\n",
        "    #to set data\n",
        "    def set_email(self, new_email):\n",
        "        if '@gmai.com' in new_email  or '@outlook.com' in new_email or '@yahoo.com' in new_email:\n",
        "            self._email = new_email\n",
        "            print(f'email changed at {datetime.now()}')\n",
        "        else:\n",
        "            return print('inavlid email!Email not updated, try again')\n",
        "\n",
        " ############################################################################\n",
        " # OR\n",
        " ###############################################################################\n",
        "\n",
        "    @property #getter property, work like getter method\n",
        "    def email(self):\n",
        "        print(f'Email accessed at {datetime.now()}')\n",
        "        return self._email\n",
        "\n",
        "    # Setter property\n",
        "    @email.setter\n",
        "    def email(self, new_email):\n",
        "        if '@gmai.com' in new_email  or '@outlook.com' in new_email or '@yahoo.com' in new_email:\n",
        "            self._email = new_email\n",
        "            print(f'Email changed at time {datetime.now()}')\n",
        "        else:\n",
        "            return print('inavlid email!Email not updated, try again')\n",
        "\n",
        "\n",
        "\n",
        "u1 = User('Samad', 'sam@gmail.com', '123')\n",
        "print(u1.email)\n",
        "u1.set_email('1223343@outlook.com')\n",
        "print(u1.get_email()) #getter getter method\n",
        "u1.email = 'isama@yahoo.com' #@email.setter property\n",
        "print(u1.email) # due to @property method\n",
        "print(f'Time taken in execution {datetime.now() - time_start}')\n",
        ""
      ],
      "metadata": {
        "colab": {
          "base_uri": "https://localhost:8080/"
        },
        "id": "jcTonbQ48CDM",
        "outputId": "83321cdc-d992-4c8d-cfc0-0d3a7d41148f"
      },
      "execution_count": 11,
      "outputs": [
        {
          "output_type": "stream",
          "name": "stdout",
          "text": [
            "Email accessed at 2025-10-04 11:16:41.969681\n",
            "sam@gmail.com\n",
            "email changed at 2025-10-04 11:16:41.969817\n",
            "Email accessed at 2025-10-04 11:16:41.969867\n",
            "1223343@outlook.com\n",
            "Email changed at time 2025-10-04 11:16:41.969910\n",
            "Email accessed at 2025-10-04 11:16:41.969949\n",
            "isama@yahoo.com\n",
            "Time taken in execution 0:00:00.001002\n"
          ]
        }
      ]
    },
    {
      "cell_type": "markdown",
      "source": [
        "✅ Summary (easy to remember):\n",
        "\n",
        "@staticmethod → function inside class (no self or cls)\n",
        "\n",
        "@classmethod → works with class itself (takes cls)\n",
        "\n",
        "Instance method → default, works with object (self)\n",
        "\n",
        "@property → makes method act like attribute\n",
        "\n",
        ".getter / .setter / .deleter → control access to private data\n",
        "\n",
        "----\n",
        "----"
      ],
      "metadata": {
        "id": "CKttlwd56Iz0"
      }
    },
    {
      "cell_type": "markdown",
      "source": [
        "## 3.Other Common Built-in Decorators (outside OOP)\n",
        "\n",
        "Python also has useful decorators for functions:\n",
        "\n",
        "@functools.lru_cache → caching results of expensive function calls.\n",
        "\n",
        "@functools.wraps → preserves metadata when making custom decorators.\n",
        "\n",
        "@abstractmethod (from abc module) → makes a method abstract in a base class.\n",
        "\n",
        "@dataclass (from dataclasses) → automatically generates __init__, __repr__,"
      ],
      "metadata": {
        "id": "MNZ9XgH763vF"
      }
    },
    {
      "cell_type": "markdown",
      "source": [
        "# Attribute\n",
        "* **Static Attribute**\\\n",
        "sometimes called class attribute, is an attribute that  belong to class itslef, not to any specific instance of the class.\n",
        "\n",
        "* **Instance Attribute**\\\n",
        "it create inside __init __ function or in  object , instance attribute unique to every object\n"
      ],
      "metadata": {
        "id": "u45ILYwP1Yna"
      }
    },
    {
      "cell_type": "code",
      "source": [
        "class User:\n",
        "    user_count = 0 #class/static attribute\n",
        "\n",
        "    def __init__(self, username, email):\n",
        "        self.name = username  #instance attribute\n",
        "        self.email = email\n",
        "        User.user_count += 1\n",
        "\n",
        "    def display_user(self):\n",
        "        print(f'Username{self.username}, Email {self.email} ')\n",
        "\n",
        "\n",
        "u1 = User('sam', 'sam@gami.com')\n",
        "u2 = User('asd', 'asd@gami.com')\n",
        "print(User.user_count)\n",
        "print(u1.user_count)  #class attribute also can access the instance of a class\n",
        "print(u2.user_count)\n",
        "\n",
        "\n"
      ],
      "metadata": {
        "colab": {
          "base_uri": "https://localhost:8080/"
        },
        "id": "yRNcip6c1bmw",
        "outputId": "3ab654c0-b8f6-48c7-a9c5-18059fb23181"
      },
      "execution_count": 10,
      "outputs": [
        {
          "output_type": "stream",
          "name": "stdout",
          "text": [
            "2\n",
            "2\n",
            "2\n"
          ]
        }
      ]
    },
    {
      "cell_type": "markdown",
      "source": [
        "# Public vs Private Members in Python\n",
        "\n",
        "Unlike Java/C++, Python doesn’t enforce strict access control.\n",
        "Instead, it uses naming conventions:\n",
        "\n"
      ],
      "metadata": {
        "id": "8C-aEqu094VJ"
      }
    },
    {
      "cell_type": "markdown",
      "source": [
        "## Public\n",
        "Public → accessible everywhere (default).\n"
      ],
      "metadata": {
        "id": "8hhrUCL7-aqn"
      }
    },
    {
      "cell_type": "code",
      "source": [
        "class Student:\n",
        "    def __init__(self, name, age):\n",
        "        self.name = name       # public\n",
        "        self.age = age         # public\n",
        "\n",
        "s1 = Student(\"Samad\", 21)\n",
        "\n",
        "print(s1.name)  # ✅ Accessible\n",
        "print(s1.age)   # ✅ Accessible\n"
      ],
      "metadata": {
        "colab": {
          "base_uri": "https://localhost:8080/"
        },
        "id": "Vv2G-FQv-Alp",
        "outputId": "709e69e4-d614-4ba0-aba6-51fb3f691ce7"
      },
      "execution_count": 13,
      "outputs": [
        {
          "output_type": "stream",
          "name": "stdout",
          "text": [
            "Samad\n",
            "21\n"
          ]
        }
      ]
    },
    {
      "cell_type": "markdown",
      "source": [
        "## Private & Protected\n",
        "\n",
        "**Private**(Prefix __ double underscore) is aslo known is Mangled Variable,change the name of variable/attribute due to double underscore\n",
        "Python uses name mangling to make it harder to access directly.\n",
        "Private Method and Attributes are ment to be used only within the class, not accessable from outside the class.\n",
        "\n",
        "**Protected**(Prefix _ single underscore)\n",
        "Not suupose to call outside the class\n",
        "\n"
      ],
      "metadata": {
        "id": "4P-TtsJl-EdK"
      }
    },
    {
      "cell_type": "code",
      "source": [
        "class Student:\n",
        "    def __init__(self, name, age):\n",
        "        self.__name = name     # private\n",
        "        self.__age = age       # private\n",
        "\n",
        "    def get_info(self):        # public method to access private data\n",
        "        return f\"Name: {self.__name}, Age: {self.__age}\"\n",
        "\n",
        "s1 = Student(\"Samad\", 21)\n",
        "\n",
        "print(s1.get_info())    # ✅ Works\n",
        "# print(s1.__name)      # ❌ AttributeError (private), give us error\n"
      ],
      "metadata": {
        "colab": {
          "base_uri": "https://localhost:8080/"
        },
        "id": "Xh8dN9bB-MNL",
        "outputId": "a6f36911-b690-4b86-8ac9-608b76ae7268"
      },
      "execution_count": 14,
      "outputs": [
        {
          "output_type": "stream",
          "name": "stdout",
          "text": [
            "Name: Samad, Age: 21\n"
          ]
        }
      ]
    },
    {
      "cell_type": "markdown",
      "source": [
        "# Super Method\n",
        "super() method is used to access methods of the parent class."
      ],
      "metadata": {
        "id": "Qg8IFsP__nee"
      }
    },
    {
      "cell_type": "code",
      "source": [
        "class Car:\n",
        "    def __init__(self, type):\n",
        "        self.type = type\n",
        "\n",
        "    @staticmethod\n",
        "    def start():\n",
        "        print('Started.....')\n",
        "\n",
        "\n",
        "    @staticmethod\n",
        "    def Stop():\n",
        "        print('Stoped.....')\n",
        "\n",
        "class Toyota(Car):\n",
        "    def __init__(self, name, type):\n",
        "        super().__init__(type)  #when inherit the Parent class attribute in child class\n",
        "        self.name = name\n",
        "        super().start()\n",
        "\n",
        "\n",
        "\n",
        "\n",
        "car1 = Toyota('Prius', 'Hybird')\n",
        "\n",
        "print(car1.name, car1.type)\n",
        "\n",
        ""
      ],
      "metadata": {
        "colab": {
          "base_uri": "https://localhost:8080/"
        },
        "id": "Ad_pRzRi_tJ-",
        "outputId": "8d5f510c-8c85-425a-c6ff-993dad13f21c"
      },
      "execution_count": 17,
      "outputs": [
        {
          "output_type": "stream",
          "name": "stdout",
          "text": [
            "Started.....\n",
            "Prius Hybird\n"
          ]
        }
      ]
    },
    {
      "cell_type": "markdown",
      "source": [
        "# **Four Piller of OOP**\n",
        "1. Abstraction\n",
        "2. Encasuplation\n",
        "3. Inheretnace\n",
        "4. Polymorphism"
      ],
      "metadata": {
        "id": "jsRkf4HKlenJ"
      }
    },
    {
      "cell_type": "markdown",
      "source": [
        "## 1.Abstraction\n",
        "Definition: Hiding implementation details, showing only the important features.\n",
        "Reduce complexity by hiding unnecessory details\\\n",
        "**Goal**: Simplicity for the user.\n",
        "\n",
        "How in Python: Using abstract classes (abc module)."
      ],
      "metadata": {
        "id": "H-V45A8mmJRz"
      }
    },
    {
      "cell_type": "code",
      "source": [
        "class Car:\n",
        "  def __init__(self):\n",
        "    self.acc = False\n",
        "    self.brk = False\n",
        "    self.clutch = False\n",
        "\n",
        "  def car_start(self):\n",
        "    self.acc = True\n",
        "    self.clutch = True\n",
        "    print(\"Car Start when push accelerator.....\")\n",
        "\n",
        "  def car_stop(self):\n",
        "    self.brk=True\n",
        "    self.clutch= True\n",
        "    print(\"car stop when push break.....\")\n",
        "# So we Hide the unnecessory information from the user, thats what called Abstraction\n",
        "car1 = Car()\n",
        "car1.car_start()\n",
        "car1.car_stop()"
      ],
      "metadata": {
        "colab": {
          "base_uri": "https://localhost:8080/"
        },
        "id": "hvWfVPJCdKo_",
        "outputId": "30244988-4fc8-44f4-d329-0b79438073a0"
      },
      "execution_count": 8,
      "outputs": [
        {
          "output_type": "stream",
          "name": "stdout",
          "text": [
            "Car Start when push accelerator.....\n",
            "car stop when push break.....\n"
          ]
        }
      ]
    },
    {
      "cell_type": "code",
      "source": [
        "class EmailService:\n",
        "    def _connect(self):\n",
        "        print('Connecting to email server')\n",
        "\n",
        "    def _authenticate(self):\n",
        "        print(\"Authenticating.....\")\n",
        "\n",
        "    def send_email(self):\n",
        "         self._connect()\n",
        "         self._authenticate()\n",
        "         print(\"Sendig Email....\")\n",
        "         self._disconnect()\n",
        "\n",
        "    def _disconnect(self):\n",
        "        print('Disconnecting from email server...')\n",
        "\n",
        "\n",
        "\n",
        "email = EmailService()\n",
        "email.send_email()\n",
        ""
      ],
      "metadata": {
        "id": "Qkp03uyp0TvZ"
      },
      "execution_count": null,
      "outputs": []
    },
    {
      "cell_type": "markdown",
      "source": [
        "## 2.Encapsulation\n",
        "\n",
        "Definition: The process of wrapping data (variables) and methods (functions) into a single unit, i.e., an object, and restricting direct access to some of the object’s components.\n",
        "\n",
        "Goal: Protect data from direct access."
      ],
      "metadata": {
        "id": "eRIwAaYenyeq"
      }
    },
    {
      "cell_type": "code",
      "source": [
        "class BankAccount:\n",
        "  def __init__(self, acc_no, balance):\n",
        "    self.acc_no = acc_no\n",
        "    self.balance = balance\n",
        "\n",
        "  def debit(self, amount):\n",
        "    self.balance -= amount\n",
        "    print(f'Rs. {amount} was debit')\n",
        "    print(f'Total Balance {self.get_balance()}')\n",
        "\n",
        "  def credit(self, amount):\n",
        "    self.balance += amount\n",
        "    print(f'Rs. {amount} was credit')\n",
        "    print(f'Total Balance {self.get_balance()}')\n",
        "\n",
        "  def get_balance(self): #return the final balance, in a single attribute or method\n",
        "    return self.balance\n",
        "\n",
        "acc1 = BankAccount(12345, 0)\n",
        "\n",
        "# this is the unit can say which hide the information from the user\n",
        "acc1.credit(2000)\n",
        "acc1.debit(1000)\n",
        "acc1.debit(50000)"
      ],
      "metadata": {
        "colab": {
          "base_uri": "https://localhost:8080/"
        },
        "id": "UwA4-lE6nm-j",
        "outputId": "eb071ab7-4031-4405-c45f-0529ccf1f8d7"
      },
      "execution_count": 12,
      "outputs": [
        {
          "output_type": "stream",
          "name": "stdout",
          "text": [
            "Rs. 2000 was credit\n",
            "Total Balance 2000\n",
            "Rs. 1000 was debit\n",
            "Total Balance 1000\n",
            "Rs. 50000 was debit\n",
            "Total Balance -49000\n"
          ]
        }
      ]
    },
    {
      "cell_type": "code",
      "source": [
        "class Student:\n",
        "    def __init__(self, name, age):\n",
        "        self.name = name\n",
        "        self.age = age\n",
        "\n",
        "s1 = Student(\"Samad\", 21)\n",
        "print(s1.age)   # ✅ 21\n",
        "\n",
        "del s1.age\n",
        "# print(s1.age)   # ❌ AttributeError: 'Student' object has no attribute 'age'\n"
      ],
      "metadata": {
        "colab": {
          "base_uri": "https://localhost:8080/"
        },
        "id": "nYQpvJdl13l_",
        "outputId": "cc4eebbd-8b42-4d8e-8ead-4a47af65f281"
      },
      "execution_count": null,
      "outputs": [
        {
          "output_type": "stream",
          "name": "stdout",
          "text": [
            "21\n"
          ]
        }
      ]
    },
    {
      "cell_type": "markdown",
      "source": [
        "## 3.Inheritance\n",
        "\n",
        "when one class (child/derived) derives the properties and method of another class (parent/base).\n",
        "\n",
        "One class (child) can reuse code from another (parent).\n",
        "\n",
        "Creating new classes (subclasses or dervied classes) based on existing classes (superclass or base class).\n",
        "\n",
        "Goal: Reusability, avoids duplication."
      ],
      "metadata": {
        "id": "E1Lb0o6a0jzJ"
      }
    },
    {
      "cell_type": "code",
      "source": [
        "class Animal:\n",
        "    def speak(self):\n",
        "        print(\"Animal sound\")\n",
        "\n",
        "class Dog(Animal):    # Dog inherits Animal\n",
        "    def speak(self):\n",
        "        print(\"Woof!\")\n",
        "\n",
        "d = Dog()\n",
        "d.speak()   # ✅ Woof!\n"
      ],
      "metadata": {
        "id": "dZD2M5gR0ji1"
      },
      "execution_count": null,
      "outputs": []
    },
    {
      "cell_type": "code",
      "source": [
        "class Car:\n",
        "  color = 'Black'\n",
        "\n",
        "  @staticmethod\n",
        "  def start():\n",
        "    print('Car Started.....')\n",
        "\n",
        "  @staticmethod\n",
        "  def stop():\n",
        "    print('Car Stopped.....')\n",
        "\n",
        "\n",
        "class Honda(Car):\n",
        "  def __init__(self, name, color):\n",
        "    self.name=name\n",
        "    self.color=color\n",
        "\n",
        "class Toyota(Car):\n",
        "  def __init__(self, name, color):\n",
        "    self.name=name\n",
        "    self.color=color\n",
        "\n",
        "\n",
        "name = input(\"Enter the name of Honda car: \")\n",
        "color = input(f\"Enter the color of that car: \")\n",
        "\n",
        "car1 = Honda(name, color)\n",
        "car1.start()  #inhirt from Parent class\n",
        "print(f'The car name is {car1.name}')\n",
        "print(f'The color of car is {car1.color}')\n",
        "car1.stop() #inhirt from Parent class\n",
        "\n"
      ],
      "metadata": {
        "id": "fC8gUMCEuPL1",
        "colab": {
          "base_uri": "https://localhost:8080/"
        },
        "outputId": "7c30e378-94e1-469b-96f1-74db664a219d"
      },
      "execution_count": null,
      "outputs": [
        {
          "output_type": "stream",
          "name": "stdout",
          "text": [
            "Enter the name of Honda car: civic\n",
            "Enter the color of that car: gold\n",
            "Car Started.....\n",
            "The car name is civic\n",
            "The color of car is gold\n",
            "Car Stopped.....\n"
          ]
        }
      ]
    },
    {
      "cell_type": "code",
      "source": [
        "class Employee:\n",
        "    def __init__(self, role, dept, salary):\n",
        "        self.role = role\n",
        "        self.dept = dept\n",
        "        self.salary = salary\n",
        "\n",
        "    def showDetail(self):\n",
        "        print(f'The role is {self.role} in {self.dept} department with salary Pkr {self.salary}.')\n",
        "\n",
        "\n",
        "class Engineer(Employee):\n",
        "    def __init__(self, name, age):\n",
        "        self.name = name\n",
        "        self.age = age\n",
        "        super().__init__('Engineer', 'AI', '75,000')\n",
        "\n",
        "    def showDetail(self):\n",
        "        print(self.name, self.age)\n",
        "\n",
        "e1 = Employee('Manager', 'IT', 190000)\n",
        "e1.showDetail()\n",
        "\n",
        "eng1 = Engineer('Samad', 22)\n",
        "eng1.showDetail()"
      ],
      "metadata": {
        "colab": {
          "base_uri": "https://localhost:8080/"
        },
        "id": "4a8arNdG-vFi",
        "outputId": "03fcf6f1-e5f6-4d01-f5b8-7778a29f8d5b"
      },
      "execution_count": 15,
      "outputs": [
        {
          "output_type": "stream",
          "name": "stdout",
          "text": [
            "The role is Manager in IT department with salary Pkr 190000.\n",
            "Samad 22\n"
          ]
        }
      ]
    },
    {
      "cell_type": "code",
      "source": [
        "class Vehicle:\n",
        "  def __init__(self, brand, model, year):\n",
        "    self.brand = brand\n",
        "    self.model = model\n",
        "    self.year = year\n",
        "\n",
        "  def start(self):\n",
        "    print(\"Starting......\" )\n",
        "\n",
        "  def stop(self):\n",
        "    print('.....stoped')\n",
        "\n",
        "\n",
        "class Car(Vehicle):\n",
        "  def __init__(self, brand, model, year, no_of_doors, no_of_wheels ):\n",
        "    super().__init__(brand, model, year)# call parent constructor\n",
        "    self.no_of_doors = no_of_doors\n",
        "    self.no_of_wheels = no_of_wheels\n",
        "\n",
        "class Bike(Vehicle):\n",
        "  def __init__(self,brand,model, year, no_of_wheels ):\n",
        "    super().__init__(brand, model, year) # call parent constructor\n",
        "    self.no_of_wheels = no_of_wheels\n",
        "\n",
        "car = Car('Ford', 'Focus', 2008, 2, 4)\n",
        "bike = Bike('Honda', 'Scopy', 2018, 2)\n",
        "\n",
        "print(car.__dict__)\n",
        "print(bike.__dict__)\n",
        "car.start()\n",
        "car.stop()\n",
        "bike.start()\n",
        "bike.stop()\n",
        "\n"
      ],
      "metadata": {
        "id": "3M2MZLeY7YxZ",
        "colab": {
          "base_uri": "https://localhost:8080/"
        },
        "outputId": "735ab580-47b4-4f7f-f6e7-e69b14a5fe17"
      },
      "execution_count": 12,
      "outputs": [
        {
          "output_type": "stream",
          "name": "stdout",
          "text": [
            "{'brand': 'Ford', 'model': 'Focus', 'year': 2008, 'no_of_doors': 2, 'no_of_wheels': 4}\n",
            "{'brand': 'Honda', 'model': 'Scopy', 'year': 2018, 'no_of_wheels': 2}\n",
            "Starting......\n",
            ".....stoped\n",
            "Starting......\n",
            ".....stoped\n"
          ]
        }
      ]
    },
    {
      "cell_type": "markdown",
      "source": [
        "### Types of Inheritnace\n",
        "\n",
        "\n",
        "1.   Single Inheritnace\\\n",
        "Base -> child\n",
        "\n",
        "2.   Multi-Level Inheritance\n",
        "3.   Multiple inheritnace\n",
        "\n"
      ],
      "metadata": {
        "id": "3kGBEhw4YwgQ"
      }
    },
    {
      "cell_type": "code",
      "source": [
        "class Car:\n",
        "  color = 'Black'\n",
        "\n",
        "  @staticmethod\n",
        "  def start():\n",
        "    print('Car Started.....')\n",
        "\n",
        "  @staticmethod\n",
        "  def stop():\n",
        "    print('Car Stopped.....')\n",
        "\n",
        "\n",
        "class Honda(Car):\n",
        "  def __init__(self, brand, color):\n",
        "    self.name=name\n",
        "    self.brand=brand\n",
        "\n",
        "class Toyota(Car):\n",
        "  def __init__(self, name, color):\n",
        "    self.name=name\n",
        "    self.color=color\n",
        "\n",
        "class Fortunre(Toyota):\n",
        "  def __init__(self, name, price)\n",
        "\n",
        "\n",
        "\n",
        "name = input(\"Enter the name of Honda car: \")\n",
        "color = input(f\"Enter the color of that car: \")\n",
        "\n",
        "car1 = Honda(name, color)\n",
        "car1.start()  #inhirt from Parent class\n",
        "print(f'The car name is {car1.name}')\n",
        "print(f'The color of car is {car1.color}')\n",
        "car1.stop() #inhirt from Parent class\n",
        "\n",
        "\n",
        "\n"
      ],
      "metadata": {
        "id": "8PN203wPVMgB"
      },
      "execution_count": null,
      "outputs": []
    },
    {
      "cell_type": "markdown",
      "source": [
        "## 4.Polymorphism\n",
        "\\(operator Overloading)\n",
        "The world polymorphism is derivied from Greek, and means \"having multiple form\"\n",
        "> poly = many\\\n",
        "> morph = forms\n",
        "\n"
      ],
      "metadata": {
        "id": "AOhTmCFT_TKb"
      }
    },
    {
      "cell_type": "code",
      "source": [
        "class Vehicle:\n",
        "    def __init__(self,brand,modle, year):\n",
        "        self.brand = brand\n",
        "        self.model = modle\n",
        "        self.year = year\n",
        "\n",
        "    def start(self):\n",
        "        print('Vehicle  is starting >>>>>>')\n",
        "\n",
        "    def stop(self):\n",
        "        print('vehicle is stoping <<<<<')\n",
        "\n",
        "class Car(Vehicle):\n",
        "    def __init__(self, brand, model, year, no_of_doors):\n",
        "        super().__init__(brand,model,year)\n",
        "        self.no_of_doors = no_of_doors\n",
        "\n",
        "    def start(self):\n",
        "        print(\"car is staring\")\n",
        "\n",
        "    def stop(self):\n",
        "        print('car is stop')\n",
        "\n",
        "class Motercycle(Vehicle):\n",
        "    def __init__(self, brand, model, year, no_of_wheel):\n",
        "        super().__init__(brand,model,year)\n",
        "        self.no_of_wheels = no_of_wheel\n",
        "    def start(self):\n",
        "        print(\"Bike is staring\")\n",
        "\n",
        "    def stop(self):\n",
        "        print('Bike is stop')\n",
        "\n",
        "class Boat(Vehicle):\n",
        "    def __init__(self, brand, model, year, have_engine):\n",
        "        super().__init__(brand,model,year)\n",
        "        self.have_engine = have_engine\n",
        "\n",
        "\n",
        "# Create list of vehicles to inspect\n",
        "vehicles: list[Vehicle] = [\n",
        "    Car('Ford', 'Focus', 2008, 5),\n",
        "    Motercycle('Honda', 'Scopy', 2018,2),\n",
        "    Boat('AAA','ZZZ',2020, True)\n",
        "]\n",
        "\n",
        "for vehicle in vehicles:\n",
        "    print(f'Inspecting {vehicle.brand} {vehicle.model} ({type(vehicle).__name__})')\n",
        "    vehicle.start()\n",
        "    vehicle.stop ()\n",
        "    # if isinstance(vehicle, Vehicles):\n",
        "    #     print(f'Inspecting {vehicle.brand} {vehicle.model} ({type(vehicle).__name__})')\n",
        "    #     vehicle.start()\n",
        "    #     vehicle.stop ()\n",
        "\n",
        "    # else:\n",
        "    #     raise Exception('Object is not a valid vehicle')\n",
        "\n",
        "# Loop through list of vehicles and inspect them\n",
        "# for vehicle in vehicles:\n",
        "#     if isinstance(vehicle, Car):\n",
        "#         print(f'Inspecting {vehicle.brand} {vehicle.model} ({type(vehicle).__name__})')\n",
        "#         vehicle.start()\n",
        "#         vehicle.stop ()\n",
        "\n",
        "#     elif isinstance(vehicle, Motercycle):\n",
        "#         print(f'Inspecting {vehicle.brand} {vehicle.model} ({type(vehicle).__name__})')\n",
        "#         vehicle.start_bike()\n",
        "#         vehicle.stop_bike()\n",
        "\n",
        "#     else:\n",
        "#         raise Exception('Object is not a valid vehicle')\n"
      ],
      "metadata": {
        "colab": {
          "base_uri": "https://localhost:8080/"
        },
        "id": "nUqIPNFs_Y5T",
        "outputId": "a611d84a-3356-4170-acc6-f366b9629481"
      },
      "execution_count": 16,
      "outputs": [
        {
          "output_type": "stream",
          "name": "stdout",
          "text": [
            "Inspecting Ford Focus (Car)\n",
            "car is staring\n",
            "car is stop\n",
            "Inspecting Honda Scopy (Motercycle)\n",
            "Bike is staring\n",
            "Bike is stop\n",
            "Inspecting AAA ZZZ (Boat)\n",
            "Vehicle  is starting >>>>>>\n",
            "vehicle is stoping <<<<<\n"
          ]
        }
      ]
    },
    {
      "cell_type": "markdown",
      "source": [
        "---\n",
        "---"
      ],
      "metadata": {
        "id": "XxipLCiXzHLa"
      }
    },
    {
      "cell_type": "markdown",
      "source": [
        "# Paractice"
      ],
      "metadata": {
        "id": "76NbgtKwAFJ6"
      }
    },
    {
      "cell_type": "code",
      "source": [
        "class Complex:\n",
        "    def __init__(self, real, img):\n",
        "        self.real = real\n",
        "        self.img = img\n",
        "\n",
        "    def ShowNumber(self):\n",
        "        print(f'{self.real}i, {self.img}j')\n",
        "\n",
        "\n",
        "    # #without dander function\n",
        "    # def add(self, num2):\n",
        "    #     newReal = self.real + num2.real\n",
        "    #     newImg = self.img + num2.img\n",
        "    #     return Complex(newReal, newImg)\n",
        "\n",
        "    #Dender function\n",
        "    def __add__(self, num2):\n",
        "        newReal = self.real + num2.real\n",
        "        newImg = self.img + num2.img\n",
        "        return Complex(newReal, newImg)\n",
        "\n",
        "\n",
        "    def __sub__(self, num2):\n",
        "        newReal = self.real - num2.real\n",
        "        newImg = self.img - num2.img\n",
        "        return Complex(newReal, newImg)\n",
        "\n",
        "com1 = Complex(4, 6)\n",
        "com1.ShowNumber()\n",
        "\n",
        "com2 = Complex(2,5)\n",
        "com2.ShowNumber()\n",
        "\n",
        "# com = com1.add(com2) #Without dander function\n",
        "com = com1 + com2\n",
        "com.ShowNumber()\n",
        "com = com1 - com2\n",
        "com.ShowNumber()\n",
        "\n"
      ],
      "metadata": {
        "colab": {
          "base_uri": "https://localhost:8080/"
        },
        "id": "YnZ1lBBmzA6h",
        "outputId": "c9578a0b-1efe-47d1-fc32-e54e0e2e96ef"
      },
      "execution_count": 18,
      "outputs": [
        {
          "output_type": "stream",
          "name": "stdout",
          "text": [
            "4i, 6j\n",
            "2i, 5j\n",
            "6i, 11j\n",
            "2i, 1j\n"
          ]
        }
      ]
    },
    {
      "cell_type": "code",
      "source": [
        "import math\n",
        "class Circle:\n",
        "    def __init__(self, radius):\n",
        "        self.radius = radius\n",
        "\n",
        "    def area(self ):\n",
        "        return math.pi * (self.radius**2)\n",
        "\n",
        "\n",
        "    def perimeter(self):\n",
        "        return  2 * math.pi * self.radius\n",
        "\n",
        "c1 = Circle(21)\n",
        "print(round(c1.area(), 2))\n",
        "print(round(c1.perimeter(), 2))"
      ],
      "metadata": {
        "colab": {
          "base_uri": "https://localhost:8080/"
        },
        "id": "rOtyNlGcACbk",
        "outputId": "6813a2a5-d943-4647-ee7e-4b8bce26a22d"
      },
      "execution_count": 19,
      "outputs": [
        {
          "output_type": "stream",
          "name": "stdout",
          "text": [
            "1385.44\n",
            "131.95\n"
          ]
        }
      ]
    },
    {
      "cell_type": "code",
      "source": [
        "#Inhiretance\n",
        "class Employee:\n",
        "    def __init__(self, role, dept, salary):\n",
        "        self.role = role\n",
        "        self.dept = dept\n",
        "        self.salary = salary\n",
        "\n",
        "    def showDetail(self):\n",
        "        print(f'The role is {self.role} in {self.dept} department with salary Pkr {self.salary}.')\n",
        "\n",
        "\n",
        "class Engineer(Employee):\n",
        "    def __init__(self, name, age):\n",
        "        self.name = name\n",
        "        self.age = age\n",
        "        super().__init__('Engineer', 'AI', '75,000')\n",
        "\n",
        "    def showDetail(self):\n",
        "        print(self.name, self.age)\n",
        "\n",
        "e1 = Employee('Manager', 'IT', 190000)\n",
        "e1.showDetail()\n",
        "\n",
        "eng1 = Engineer('Samad', 22)\n",
        "eng1.showDetail()"
      ],
      "metadata": {
        "colab": {
          "base_uri": "https://localhost:8080/"
        },
        "id": "ZgcCPNV1AJlp",
        "outputId": "0d69dc2b-0fa0-4a9a-84a8-af3021cb9531"
      },
      "execution_count": 20,
      "outputs": [
        {
          "output_type": "stream",
          "name": "stdout",
          "text": [
            "The role is Manager in IT department with salary Pkr 190000.\n",
            "Samad 22\n"
          ]
        }
      ]
    },
    {
      "cell_type": "code",
      "source": [
        "#Dunder Function\n",
        "class Order:\n",
        "    def __init__(self, item, price):\n",
        "        self.item = item\n",
        "        self.price = price\n",
        "\n",
        "    def showDetail(self):\n",
        "        print(f'Item = {self.item}, Price={self.price}')\n",
        "        # print('____________________________')\n",
        "\n",
        "    # Dender Function\n",
        "    def __gt__(self, odr2): #gt = greater then\n",
        "        return self.price > odr2.price\n",
        "\n",
        "\n",
        "\n",
        "\n",
        "odr1 = Order('laptop',7000)\n",
        "odr1.showDetail()\n",
        "\n",
        "odr2= Order('phone', 50000)\n",
        "odr2.showDetail()\n",
        "\n",
        "gt = odr1 > odr2\n",
        "print(f'Order1 > Order2: {gt}')\n"
      ],
      "metadata": {
        "colab": {
          "base_uri": "https://localhost:8080/"
        },
        "id": "fMB_l_UeAOHM",
        "outputId": "cfe4fd55-a6cd-496b-9c7e-5d210770f6c5"
      },
      "execution_count": 21,
      "outputs": [
        {
          "output_type": "stream",
          "name": "stdout",
          "text": [
            "Item = laptop, Price=7000\n",
            "Item = phone, Price=50000\n",
            "Order1 > Order2: False\n"
          ]
        }
      ]
    },
    {
      "cell_type": "code",
      "source": [],
      "metadata": {
        "id": "ZEl-m4LoAVyB"
      },
      "execution_count": null,
      "outputs": []
    }
  ]
}