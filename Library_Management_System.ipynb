{
  "nbformat": 4,
  "nbformat_minor": 0,
  "metadata": {
    "colab": {
      "provenance": [],
      "authorship_tag": "ABX9TyPrDYt6xm0EFnB7Xqc42S4B",
      "include_colab_link": true
    },
    "kernelspec": {
      "name": "python3",
      "display_name": "Python 3"
    },
    "language_info": {
      "name": "python"
    }
  },
  "cells": [
    {
      "cell_type": "markdown",
      "metadata": {
        "id": "view-in-github",
        "colab_type": "text"
      },
      "source": [
        "<a href=\"https://colab.research.google.com/github/isamadafridi/oop_python/blob/main/Library_Management_System.ipynb\" target=\"_parent\"><img src=\"https://colab.research.google.com/assets/colab-badge.svg\" alt=\"Open In Colab\"/></a>"
      ]
    },
    {
      "cell_type": "markdown",
      "source": [
        "# Library Management System\n",
        "**(Encapsulation + Inheritance + Polymorphism)**\n",
        "\n",
        "Scenario: You are building a small system for a local library.\n",
        "\n",
        "Base class: LibraryItem (title, author, year).\n",
        "\n",
        "Subclasses: Book, Magazine, DVD. Each has extra attributes (pages, issue_number, duration).\n",
        "\n",
        "Encapsulation: Keep a private attribute _is_borrowed. Only allow changing it through methods borrow() and return_item().\n",
        "\n",
        "Polymorphism: Each subclass should override a display_info() method to show details in a different format.\n",
        "\n",
        "Test plan: Create a list of mixed items and loop through calling display_info(). Borrow and return some items."
      ],
      "metadata": {
        "id": "kqBmY4NiXDsO"
      }
    },
    {
      "cell_type": "code",
      "execution_count": 1,
      "metadata": {
        "colab": {
          "base_uri": "https://localhost:8080/"
        },
        "id": "Sn-u9KVoW8ca",
        "outputId": "c36536a2-b789-4a3b-fee5-82c842bb4b32"
      },
      "outputs": [
        {
          "output_type": "stream",
          "name": "stdout",
          "text": [
            "Titile: Dummy, Author: Anything, Year: 12\n",
            "____________________________________\n",
            "Book: Atomic Book by James, Page: 300\n",
            "Available? True\n",
            "Atomic Book has been issued.\n",
            "Available? False\n",
            "Atomic Book has been returned.\n",
            "Available? True\n",
            "_________________________________________\n",
            "Magzine: time Magzine, Issue: 2025\n",
            "_______________________________\n",
            "DVD: Mission DVD, Durarion: 128\n",
            "________________________________\n",
            "Titile: CNN, Author: DEWA, Year: 2025\n",
            "______________________\n",
            "Book: Atomic Book by James, Page: 300\n",
            "Magzine: time Magzine, Issue: 2025\n",
            "DVD: Mission DVD, Durarion: 128\n",
            "Titile: CNN, Author: DEWA, Year: 2025\n"
          ]
        }
      ],
      "source": [
        "from re import T\n",
        "# Mian Class\n",
        "class LibraryItem:\n",
        "  def __init__(self, title , author, year):\n",
        "    self.title = title\n",
        "    self.author = author\n",
        "    self.year = year\n",
        "    self._is_issued = False   # private attribute (encapsulation)\n",
        "\n",
        "\n",
        "  def display_info(self):\n",
        "    return(f'Titile: {self.title}, Author: {self.author}, Year: {self.year}')\n",
        "\n",
        "\n",
        "  def issued_item(self): # (encapsulation)\n",
        "    if not self._is_issued:   # only borrow if available\n",
        "        self._is_issued = True\n",
        "        print(f\"{self.title} has been issued.\")\n",
        "    else:\n",
        "        print(f\"{self.title} is already issued.\")\n",
        "\n",
        "  def return_item(self): #(encapsulation)\n",
        "    if self._is_issued:\n",
        "        self._is_issued = False\n",
        "        print(f\"{self.title} has been returned.\")\n",
        "    else:\n",
        "        print(f\"{self.title} was not borrowed.\")\n",
        "\n",
        "  def is_available(self): # (encapsulation)\n",
        "    return not self._is_issued\n",
        "\n",
        "\n",
        "\n",
        "#__________________________________________________________________________________\n",
        "# Book  subclass\n",
        "class Book(LibraryItem): #subclass\n",
        "  def __init__(self, title,author,year, pages):\n",
        "    super().__init__(title, author, year)\n",
        "    self.pages = pages\n",
        "\n",
        "  def display_info(self): #subclass\n",
        "    return f'Book: {self.title} by {self.author}, Page: {self.pages}' #override the main display finction\n",
        "    #return f'{super().display_info()}, Pages: {self.pages}'\n",
        "\n",
        "\n",
        "#_________________________________________________________________________________\n",
        "#Magzine subClass\n",
        "class Magzine(LibraryItem): #subclass\n",
        "  def __init__(self, title, author, year, issue_number):\n",
        "    super().__init__(title, author, year)\n",
        "    self.issue_number = issue_number\n",
        "\n",
        "  def display_info(self):\n",
        "    return f'Magzine: {self.title}, Issue: {self.year}' #override the main display finction\n",
        "    #return f'{super().display_info()}, issue Number: {self.issue_number}'\n",
        "\n",
        "#_______________________________________________________________________________\n",
        "# DVD subClass\n",
        "class DVD(LibraryItem): #subclass\n",
        "  def __init__(self, title, author, year, duration):\n",
        "    super().__init__(title, author, year)\n",
        "    self.duration = duration\n",
        "\n",
        "  def display_info(self):\n",
        "    return f'DVD: {self.title}, Durarion: {self.duration}' #override the main display finction\n",
        "    #return f'{super().display_info()}, Duration: {self.duration}min'\n",
        "\n",
        "#________________________________________________________________________________\n",
        "#Newspaper Subclass\n",
        "class NewsPaper(LibraryItem):\n",
        "  def __init__(self, title, author,year, date ):\n",
        "    super().__init__(title, author, year)\n",
        "    self.date = date\n",
        "\n",
        "def display_info(self):\n",
        "  return f'Newspaper: {self.title}, Date:{self.date}'\n",
        "\n",
        "\n",
        "################################################################################\n",
        "# Object (instance of the classes)\n",
        "\n",
        "item1 = LibraryItem(\"Dummy\", \"Anything\", 12)\n",
        "print(item1.display_info())\n",
        "\n",
        "print('____________________________________')\n",
        "book1 = Book('Atomic Book', 'James', 2019, 300)\n",
        "print(book1.display_info())\n",
        "print(f'Available? {book1.is_available()}' )\n",
        "book1.issued_item()\n",
        "print(f'Available? {book1.is_available()}')\n",
        "book1.return_item()\n",
        "print(f'Available? {book1.is_available()}')\n",
        "\n",
        "\n",
        "\n",
        "print('_________________________________________')\n",
        "magzine1 = Magzine('time Magzine', 'Sam', 2025, 3453)\n",
        "print(magzine1.display_info())\n",
        "\n",
        "print('_______________________________')\n",
        "dvd1 = DVD('Mission DVD', 'Tom', 2017, 128)\n",
        "print(dvd1.display_info())\n",
        "\n",
        "print('________________________________')\n",
        "newspaper1 = NewsPaper('CNN', 'DEWA', 2025, 4)\n",
        "print(newspaper1.display_info())\n",
        "\n",
        "print('______________________')\n",
        "items = [book1, magzine1, dvd1, newspaper1]\n",
        "for item in items:\n",
        "  print(item.display_info())\n",
        "\n"
      ]
    },
    {
      "cell_type": "code",
      "source": [],
      "metadata": {
        "id": "sruBMyi8gGPl"
      },
      "execution_count": null,
      "outputs": []
    }
  ]
}