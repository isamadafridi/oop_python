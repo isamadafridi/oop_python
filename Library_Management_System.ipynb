{
  "nbformat": 4,
  "nbformat_minor": 0,
  "metadata": {
    "colab": {
      "provenance": [],
      "authorship_tag": "ABX9TyOdvlNVY/rwbWw284aG7h/6",
      "include_colab_link": true
    },
    "kernelspec": {
      "name": "python3",
      "display_name": "Python 3"
    },
    "language_info": {
      "name": "python"
    }
  },
  "cells": [
    {
      "cell_type": "markdown",
      "metadata": {
        "id": "view-in-github",
        "colab_type": "text"
      },
      "source": [
        "<a href=\"https://colab.research.google.com/github/isamadafridi/oop_python/blob/main/Library_Management_System.ipynb\" target=\"_parent\"><img src=\"https://colab.research.google.com/assets/colab-badge.svg\" alt=\"Open In Colab\"/></a>"
      ]
    },
    {
      "cell_type": "markdown",
      "source": [
        "# Library Management System (Encapsulation + Inheritance + Polymorphism)\n",
        "\n",
        "Scenario: You are building a small system for a local library.\n",
        "\n",
        "Base class: LibraryItem (title, author, year).\n",
        "\n",
        "Subclasses: Book, Magazine, DVD. Each has extra attributes (pages, issue_number, duration).\n",
        "\n",
        "Encapsulation: Keep a private attribute _is_borrowed. Only allow changing it through methods borrow() and return_item().\n",
        "\n",
        "Polymorphism: Each subclass should override a display_info() method to show details in a different format.\n",
        "\n",
        "Test plan: Create a list of mixed items and loop through calling display_info(). Borrow and return some items."
      ],
      "metadata": {
        "id": "kqBmY4NiXDsO"
      }
    },
    {
      "cell_type": "code",
      "execution_count": null,
      "metadata": {
        "id": "Sn-u9KVoW8ca"
      },
      "outputs": [],
      "source": [
        "class LibraryItem:\n",
        "  def __init__(self, title, author, year):\n",
        "    self.title = title\n",
        "    self.author = author\n",
        "    self.year = year\n",
        "\n",
        "\n",
        "class Book(LibraryItem):\n",
        "  def __init__(self, title,author,)"
      ]
    }
  ]
}